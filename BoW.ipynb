{
 "cells": [
  {
   "cell_type": "code",
   "execution_count": 39,
   "metadata": {},
   "outputs": [],
   "source": [
    "import nltk"
   ]
  },
  {
   "cell_type": "code",
   "execution_count": 40,
   "metadata": {},
   "outputs": [],
   "source": [
    "corpus = \"\"\"\n",
    "Living a balanced life means taking care of all parts of yourself: mind, body, and soul. In a world that’s constantly busy, it’s easy to focus only on work and forget about other important areas of life. But balance is key to happiness and well-being.\n",
    "\n",
    "Start by setting time aside for activities you enjoy, like reading, exercising, or spending time with friends and family. Taking breaks helps refresh your mind and makes it easier to handle responsibilities.\n",
    "\n",
    "Getting enough sleep, eating nutritious foods, and exercising regularly are also essential. These basics of physical health can improve mood and energy levels, which benefits other parts of life as well.\n",
    "\n",
    "Remember to take time each day to relax. Whether it’s a walk, a few minutes of meditation, or just listening to music, small acts of relaxation can help reduce stress and increase focus.\n",
    "\n",
    "Finally, it’s important to set boundaries and prioritize tasks. Identify what’s truly important, and try to avoid overloading your schedule. Life is more enjoyable when you have time to pause, reflect, and appreciate the moments that matter.\n",
    "\n",
    "In short, a balanced life is about making space for work, rest, and play. It’s about being present and caring for yourself fully.\n",
    "\"\"\""
   ]
  },
  {
   "cell_type": "code",
   "execution_count": 41,
   "metadata": {},
   "outputs": [
    {
     "data": {
      "text/plain": [
       "'\\nLiving a balanced life means taking care of all parts of yourself: mind, body, and soul. In a world that’s constantly busy, it’s easy to focus only on work and forget about other important areas of life. But balance is key to happiness and well-being.\\n\\nStart by setting time aside for activities you enjoy, like reading, exercising, or spending time with friends and family. Taking breaks helps refresh your mind and makes it easier to handle responsibilities.\\n\\nGetting enough sleep, eating nutritious foods, and exercising regularly are also essential. These basics of physical health can improve mood and energy levels, which benefits other parts of life as well.\\n\\nRemember to take time each day to relax. Whether it’s a walk, a few minutes of meditation, or just listening to music, small acts of relaxation can help reduce stress and increase focus.\\n\\nFinally, it’s important to set boundaries and prioritize tasks. Identify what’s truly important, and try to avoid overloading your schedule. Life is more enjoyable when you have time to pause, reflect, and appreciate the moments that matter.\\n\\nIn short, a balanced life is about making space for work, rest, and play. It’s about being present and caring for yourself fully.\\n'"
      ]
     },
     "execution_count": 41,
     "metadata": {},
     "output_type": "execute_result"
    }
   ],
   "source": [
    "corpus"
   ]
  },
  {
   "cell_type": "code",
   "execution_count": 42,
   "metadata": {},
   "outputs": [],
   "source": [
    "sentences = nltk.sent_tokenize(corpus)"
   ]
  },
  {
   "cell_type": "code",
   "execution_count": 43,
   "metadata": {},
   "outputs": [
    {
     "data": {
      "text/plain": [
       "['\\nLiving a balanced life means taking care of all parts of yourself: mind, body, and soul.',\n",
       " 'In a world that’s constantly busy, it’s easy to focus only on work and forget about other important areas of life.',\n",
       " 'But balance is key to happiness and well-being.',\n",
       " 'Start by setting time aside for activities you enjoy, like reading, exercising, or spending time with friends and family.',\n",
       " 'Taking breaks helps refresh your mind and makes it easier to handle responsibilities.',\n",
       " 'Getting enough sleep, eating nutritious foods, and exercising regularly are also essential.',\n",
       " 'These basics of physical health can improve mood and energy levels, which benefits other parts of life as well.',\n",
       " 'Remember to take time each day to relax.',\n",
       " 'Whether it’s a walk, a few minutes of meditation, or just listening to music, small acts of relaxation can help reduce stress and increase focus.',\n",
       " 'Finally, it’s important to set boundaries and prioritize tasks.',\n",
       " 'Identify what’s truly important, and try to avoid overloading your schedule.',\n",
       " 'Life is more enjoyable when you have time to pause, reflect, and appreciate the moments that matter.',\n",
       " 'In short, a balanced life is about making space for work, rest, and play.',\n",
       " 'It’s about being present and caring for yourself fully.']"
      ]
     },
     "execution_count": 43,
     "metadata": {},
     "output_type": "execute_result"
    }
   ],
   "source": [
    "sentences"
   ]
  },
  {
   "cell_type": "code",
   "execution_count": 49,
   "metadata": {},
   "outputs": [
    {
     "data": {
      "text/plain": [
       "array([[ 3,  1,  1,  1,  1, 13,  1,  1,  1,  1,  1,  1,  1,  2,  1,  2,\n",
       "         1,  1,  1,  1,  1,  1,  1,  2,  1,  1,  1,  1,  1,  1,  1,  1,\n",
       "         1,  1,  1,  1,  1,  2,  1,  1,  1,  2,  1,  3,  1,  1,  1,  1,\n",
       "         1,  1,  1,  1,  1,  1,  1,  3,  1,  2,  1,  3,  5,  1,  1,  1,\n",
       "         5,  1,  1,  1,  1,  1,  1,  1,  1,  2,  1,  1,  1,  1,  1,  1,\n",
       "         7,  1,  1,  2,  2,  1,  2,  1,  1,  1,  1,  1,  1,  1,  1,  1,\n",
       "         1,  1,  1,  1,  1,  1,  1,  1,  1,  1,  1,  1,  1,  1,  1,  1,\n",
       "         1,  1,  2,  1,  2,  1,  1,  4,  9,  1,  1,  1,  2,  1,  1,  1,\n",
       "         1,  1,  2,  1,  2,  2,  2]], dtype=int64)"
      ]
     },
     "execution_count": 49,
     "metadata": {},
     "output_type": "execute_result"
    }
   ],
   "source": [
    "from sklearn.feature_extraction.text import CountVectorizer\n",
    "\n",
    "corpus = [\"\"\"\n",
    "Living a balanced life means taking care of all parts of yourself: mind, body, and soul. In a world that’s constantly busy, it’s easy to focus only on work and forget about other important areas of life. But balance is key to happiness and well-being.\n",
    "\n",
    "Start by setting time aside for activities you enjoy, like reading, exercising, or spending time with friends and family. Taking breaks helps refresh your mind and makes it easier to handle responsibilities.\n",
    "\n",
    "Getting enough sleep, eating nutritious foods, and exercising regularly are also essential. These basics of physical health can improve mood and energy levels, which benefits other parts of life as well.\n",
    "\n",
    "Remember to take time each day to relax. Whether it’s a walk, a few minutes of meditation, or just listening to music, small acts of relaxation can help reduce stress and increase focus.\n",
    "\n",
    "Finally, it’s important to set boundaries and prioritize tasks. Identify what’s truly important, and try to avoid overloading your schedule. Life is more enjoyable when you have time to pause, reflect, and appreciate the moments that matter.\n",
    "\n",
    "In short, a balanced life is about making space for work, rest, and play. It’s about being present and caring for yourself fully.\n",
    "\"\"\"\n",
    "]\n",
    "\n",
    "v = CountVectorizer()\n",
    "\n",
    "bow_matrix = v.fit_transform(corpus)\n",
    "\n",
    "bow_matrix.toarray()"
   ]
  },
  {
   "cell_type": "code",
   "execution_count": null,
   "metadata": {},
   "outputs": [],
   "source": []
  }
 ],
 "metadata": {
  "kernelspec": {
   "display_name": "Python 3",
   "language": "python",
   "name": "python3"
  },
  "language_info": {
   "codemirror_mode": {
    "name": "ipython",
    "version": 3
   },
   "file_extension": ".py",
   "mimetype": "text/x-python",
   "name": "python",
   "nbconvert_exporter": "python",
   "pygments_lexer": "ipython3",
   "version": "3.12.7"
  }
 },
 "nbformat": 4,
 "nbformat_minor": 2
}
